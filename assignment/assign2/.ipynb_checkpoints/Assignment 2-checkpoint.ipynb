{
 "cells": [
  {
   "cell_type": "code",
   "execution_count": 10,
   "metadata": {
    "collapsed": true
   },
   "outputs": [],
   "source": [
    "import scipy as sc\n",
    "import random\n",
    "import numpy as np\n",
    "from matplotlib import pyplot as plt\n",
    "import seaborn as sns\n",
    "\n",
    "from scipy.stats import norm\n",
    "from scipy.stats import t\n",
    "\n",
    "import time\n",
    "\n",
    "%matplotlib inline\n"
   ]
  },
  {
   "cell_type": "code",
   "execution_count": null,
   "metadata": {
    "collapsed": true
   },
   "outputs": [],
   "source": [
    "'''\n",
    "Importance sampling:\n",
    "Target: |X|\n",
    "\n",
    "'''"
   ]
  },
  {
   "cell_type": "code",
   "execution_count": 2,
   "metadata": {},
   "outputs": [
    {
     "name": "stdout",
     "output_type": "stream",
     "text": [
      "Direct estimation:0.0\n",
      "Importance sampling:2.72871598804e-07\n",
      "Exact value:2.86651571879e-07\n"
     ]
    }
   ],
   "source": [
    "import scipy as sc\n",
    "from scipy.stats import norm\n",
    "\n",
    "N=100\n",
    "M = 1000\n",
    "nsamp = sc.zeros(M)\n",
    "\n",
    "for i in range(M):\n",
    "        data=sc.randn(N)*0.1\n",
    "        nsamp[i] = sc.mean(data<-0.5)\n",
    "\n",
    "print(\"Direct estimation:\" + str(sc.mean(nsamp)))\n",
    "\n",
    "# Importance sampling\n",
    "p = lambda x: norm.pdf(x,scale=0.1) # original distribution\n",
    "q = lambda x: norm.pdf(x,loc=-0.5) # proposal distribution --- focuses on the regime of interest!\n",
    "\n",
    "# new quantity of interest\n",
    "f = lambda x: (x<-0.5)*p(x)/q(x)\n",
    "\n",
    "for i in range(M):\n",
    "        data = -0.5+sc.randn(N)\n",
    "        nsamp[i] = sc.mean(f(data))\n",
    "\n",
    "print(\"Importance sampling:\" + str(sc.mean(nsamp)))\n",
    "print(\"Exact value:\" + str(norm.cdf(-0.5,scale=0.1)))"
   ]
  },
  {
   "cell_type": "code",
   "execution_count": null,
   "metadata": {
    "collapsed": true
   },
   "outputs": [],
   "source": [
    "def imprtanceSampling(num_iter, num_rep)"
   ]
  },
  {
   "cell_type": "code",
   "execution_count": 21,
   "metadata": {
    "collapsed": true
   },
   "outputs": [],
   "source": [
    "f = lambda x: abs(x)\n",
    "\n",
    "import time\n",
    "start_time = time.time()\n",
    "main()\n",
    "print(\"--- %s seconds ---\" % (time.time() - start_time))\n",
    "\n",
    "def simpleMC(num_iter, num_rep):\n",
    "    samples = [0]*num_iter\n",
    "    for i in range(num_iter):\n",
    "        data = np.random.standard_t(3, num_rep)\n",
    "        samples[i] = np.mean(f(data))\n",
    "    return samples\n",
    "        \n",
    "        "
   ]
  },
  {
   "cell_type": "code",
   "execution_count": 25,
   "metadata": {},
   "outputs": [
    {
     "name": "stdout",
     "output_type": "stream",
     "text": [
      "--- 0.04760599136352539 seconds ---\n"
     ]
    }
   ],
   "source": [
    "\n",
    "start_time = time.time()\n",
    "a = simpleMC(1500, 100)\n",
    "print(\"--- %s seconds ---\" % (time.time() - start_time))"
   ]
  },
  {
   "cell_type": "code",
   "execution_count": 22,
   "metadata": {},
   "outputs": [],
   "source": [
    "a = simpleMC(1500, 100)"
   ]
  },
  {
   "cell_type": "code",
   "execution_count": 23,
   "metadata": {
    "collapsed": true
   },
   "outputs": [],
   "source": [
    "b = [i for i in range(1, 1501)]"
   ]
  },
  {
   "cell_type": "code",
   "execution_count": 24,
   "metadata": {},
   "outputs": [
    {
     "data": {
      "text/plain": [
       "[<matplotlib.lines.Line2D at 0x1a162b7a58>]"
      ]
     },
     "execution_count": 24,
     "metadata": {},
     "output_type": "execute_result"
    },
    {
     "data": {
      "image/png": "[encoded data removed]",
      "text/plain": [
       "<matplotlib.figure.Figure at 0x1a1649fc88>"
      ]
     },
     "metadata": {},
     "output_type": "display_data"
    }
   ],
   "source": [
    "plt.plot(b, a)"
   ]
  },
  {
   "cell_type": "code",
   "execution_count": 19,
   "metadata": {
    "collapsed": true
   },
   "outputs": [],
   "source": [
    "plt.show()"
   ]
  },
  {
   "cell_type": "code",
   "execution_count": null,
   "metadata": {
    "collapsed": true
   },
   "outputs": [],
   "source": []
  }
 ],
 "metadata": {
  "kernelspec": {
   "display_name": "Python 3",
   "language": "python",
   "name": "python3"
  },
  "language_info": {
   "codemirror_mode": {
    "name": "ipython",
    "version": 3
   },
   "file_extension": ".py",
   "mimetype": "text/x-python",
   "name": "python",
   "nbconvert_exporter": "python",
   "pygments_lexer": "ipython3",
   "version": "3.6.3"
  }
 },
 "nbformat": 4,
 "nbformat_minor": 2
}
