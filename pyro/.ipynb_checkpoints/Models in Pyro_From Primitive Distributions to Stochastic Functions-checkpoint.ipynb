{
 "cells": [
  {
   "cell_type": "code",
   "execution_count": 4,
   "metadata": {},
   "outputs": [],
   "source": [
    "# import some dependencies\n",
    "import torch \n",
    "from torch.autograd import Variable\n",
    "import pyro\n",
    "import pyro.distributions as dist"
   ]
  },
  {
   "cell_type": "code",
   "execution_count": 12,
   "metadata": {},
   "outputs": [
    {
     "name": "stdout",
     "output_type": "stream",
     "text": [
      "Variable containing:\n",
      "-0.5786\n",
      "[torch.FloatTensor of size 1]\n",
      "\n",
      "<pyro.distributions.normal.Normal object at 0x1a0f78d470>\n"
     ]
    }
   ],
   "source": [
    "mu = Variable(torch.zeros(1))\n",
    "sigma = Variable(torch.ones(1))\n",
    "# ineteresting that they have these two method name\n",
    "x = dist.normal(mu, sigma)\n",
    "y = dist.Normal(mu, sigma)\n",
    "print(x)\n",
    "print(y)"
   ]
  },
  {
   "cell_type": "code",
   "execution_count": 13,
   "metadata": {},
   "outputs": [
    {
     "name": "stdout",
     "output_type": "stream",
     "text": [
      "Variable containing:\n",
      "-1.0863\n",
      "[torch.FloatTensor of size 1]\n",
      "\n"
     ]
    }
   ],
   "source": [
    "log_p_x = dist.normal.log_pdf(x, mu, sigma)\n",
    "# where is the standard pdf function???\n",
    "print(log_p_x)"
   ]
  },
  {
   "cell_type": "code",
   "execution_count": 17,
   "metadata": {},
   "outputs": [
    {
     "name": "stdout",
     "output_type": "stream",
     "text": [
      "Variable containing:\n",
      "-0.3940\n",
      "[torch.FloatTensor of size 1x1]\n",
      "\n",
      "Variable containing:\n",
      "-1.5511\n",
      "-0.9125\n",
      "-0.4059\n",
      " 1.8120\n",
      " 0.4176\n",
      " 0.7298\n",
      "-0.6828\n",
      "-1.2691\n",
      " 0.4350\n",
      " 0.5555\n",
      " 2.2032\n",
      "-0.1270\n",
      " 1.4240\n",
      " 0.7645\n",
      " 0.2910\n",
      " 0.2837\n",
      "-0.5610\n",
      "-0.3382\n",
      "-0.7606\n",
      " 0.5106\n",
      "[torch.FloatTensor of size 20x1]\n",
      "\n"
     ]
    }
   ],
   "source": [
    "x = pyro.sample(\"my_sample1\", dist.normal, mu, sigma, 1)\n",
    "print(x)\n",
    "y = pyro.sample(\"my_sample2\", dist.normal, mu, sigma, 20)\n",
    "print(y)"
   ]
  },
  {
   "cell_type": "code",
   "execution_count": 20,
   "metadata": {},
   "outputs": [
    {
     "name": "stdout",
     "output_type": "stream",
     "text": [
      "Variable containing:\n",
      "-1.5511\n",
      "-0.9125\n",
      "-0.4059\n",
      " 1.8120\n",
      " 0.4176\n",
      " 0.7298\n",
      "-0.6828\n",
      "-1.2691\n",
      " 0.4350\n",
      " 0.5555\n",
      " 2.2032\n",
      "-0.1270\n",
      " 1.4240\n",
      " 0.7645\n",
      " 0.2910\n",
      " 0.2837\n",
      "-0.5610\n",
      "-0.3382\n",
      "-0.7606\n",
      " 0.5106\n",
      "[torch.FloatTensor of size 20x1]\n",
      "\n"
     ]
    }
   ],
   "source": [
    "fn = lambda x: 2*x\n",
    "print(y)\n",
    "#z = pyro.sample(y, fn)\n",
    "#print(z)"
   ]
  },
  {
   "cell_type": "code",
   "execution_count": 21,
   "metadata": {},
   "outputs": [
    {
     "name": "stdout",
     "output_type": "stream",
     "text": [
      "('sunny', 71.9345703125)\n",
      "('sunny', 66.61951446533203)\n",
      "('sunny', 89.00239562988281)\n"
     ]
    }
   ],
   "source": [
    "def weather():\n",
    "    cloudy = pyro.sample('cloudy', dist.bernoulli, Variable(torch.Tensor([0.3])))\n",
    "    cloudy = 'cloudy' if cloudy.data[0] == 1.0 else 'sunny'\n",
    "    mean_temp = {'cloudy':[55.0], 'sunny':[75.0]}[cloudy]\n",
    "    sigma_temp = {'cloudy': [10.0], 'sunny': [15.0]}[cloudy]\n",
    "    temp = pyro.sample('temp', dist.normal, Variable(torch.Tensor(mean_temp)), Variable(torch.Tensor(sigma_temp)))\n",
    "    return cloudy, temp.data[0]\n",
    "\n",
    "for _ in range(3):\n",
    "    print(weather())"
   ]
  },
  {
   "cell_type": "code",
   "execution_count": null,
   "metadata": {
    "collapsed": true
   },
   "outputs": [],
   "source": []
  }
 ],
 "metadata": {
  "kernelspec": {
   "display_name": "Python 3",
   "language": "python",
   "name": "python3"
  },
  "language_info": {
   "codemirror_mode": {
    "name": "ipython",
    "version": 3
   },
   "file_extension": ".py",
   "mimetype": "text/x-python",
   "name": "python",
   "nbconvert_exporter": "python",
   "pygments_lexer": "ipython3",
   "version": "3.6.3"
  }
 },
 "nbformat": 4,
 "nbformat_minor": 2
}
